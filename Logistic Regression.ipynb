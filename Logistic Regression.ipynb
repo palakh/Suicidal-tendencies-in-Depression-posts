{
 "cells": [
  {
   "cell_type": "markdown",
   "metadata": {},
   "source": [
    "Predict whether posts come from depression or suicide thread\n",
    "\n",
    "Hannah Ho"
   ]
  },
  {
   "cell_type": "code",
   "execution_count": 1,
   "metadata": {},
   "outputs": [],
   "source": [
    "import pandas as pd\n",
    "import numpy as np\n",
    "\n",
    "from sklearn.linear_model import LogisticRegression\n",
    "from sklearn.feature_extraction.text import TfidfVectorizer\n",
    "from sklearn.feature_extraction.text import TfidfTransformer\n",
    "from sklearn.model_selection import cross_val_score\n",
    "from sklearn.model_selection import train_test_split\n",
    "from sklearn.metrics import confusion_matrix\n",
    "from sklearn import metrics\n",
    "from sklearn.metrics import plot_confusion_matrix\n",
    "\n",
    "import seaborn as sns #only responded to pip install (not pip3 install or conda install)\n",
    "import matplotlib.pyplot as plt\n",
    "from matplotlib import cm\n",
    "from nltk.corpus import stopwords\n",
    "from collections import Counter\n",
    "import itertools"
   ]
  },
  {
   "cell_type": "code",
   "execution_count": 2,
   "metadata": {},
   "outputs": [],
   "source": [
    "df_suicide = pd.read_csv('suicidewatch_posts.csv')\n",
    "df_depression = pd.read_csv('depression_posts.csv')"
   ]
  },
  {
   "cell_type": "code",
   "execution_count": 3,
   "metadata": {},
   "outputs": [
    {
     "name": "stdout",
     "output_type": "stream",
     "text": [
      "4447\n"
     ]
    },
    {
     "data": {
      "text/html": [
       "<div>\n",
       "<style scoped>\n",
       "    .dataframe tbody tr th:only-of-type {\n",
       "        vertical-align: middle;\n",
       "    }\n",
       "\n",
       "    .dataframe tbody tr th {\n",
       "        vertical-align: top;\n",
       "    }\n",
       "\n",
       "    .dataframe thead th {\n",
       "        text-align: right;\n",
       "    }\n",
       "</style>\n",
       "<table border=\"1\" class=\"dataframe\">\n",
       "  <thead>\n",
       "    <tr style=\"text-align: right;\">\n",
       "      <th></th>\n",
       "      <th>title</th>\n",
       "      <th>score</th>\n",
       "      <th>p_id</th>\n",
       "      <th>subreddit</th>\n",
       "      <th>url</th>\n",
       "      <th>num_comments</th>\n",
       "      <th>body</th>\n",
       "      <th>p_timestamp</th>\n",
       "      <th>c_id</th>\n",
       "      <th>comment</th>\n",
       "      <th>c_timestamp</th>\n",
       "      <th>Post_Reply</th>\n",
       "      <th>Time_to_Comment</th>\n",
       "      <th>Suicide</th>\n",
       "    </tr>\n",
       "  </thead>\n",
       "  <tbody>\n",
       "    <tr>\n",
       "      <th>0</th>\n",
       "      <td>New wiki on how to avoid accidentally encourag...</td>\n",
       "      <td>596</td>\n",
       "      <td>cz6nfd</td>\n",
       "      <td>SuicideWatch</td>\n",
       "      <td>https://www.reddit.com/r/SuicideWatch/comments...</td>\n",
       "      <td>157</td>\n",
       "      <td>We've been seeing a worrying increase in pro-s...</td>\n",
       "      <td>2019-09-03 18:49:51</td>\n",
       "      <td>eyx1qcc</td>\n",
       "      <td>I'm sorry did you say suicide fetishists? As i...</td>\n",
       "      <td>2019-09-03 23:34:05</td>\n",
       "      <td>Y</td>\n",
       "      <td>0 days 04:44:14.000000000</td>\n",
       "      <td>1</td>\n",
       "    </tr>\n",
       "  </tbody>\n",
       "</table>\n",
       "</div>"
      ],
      "text/plain": [
       "                                               title  score    p_id  \\\n",
       "0  New wiki on how to avoid accidentally encourag...    596  cz6nfd   \n",
       "\n",
       "      subreddit                                                url  \\\n",
       "0  SuicideWatch  https://www.reddit.com/r/SuicideWatch/comments...   \n",
       "\n",
       "   num_comments                                               body  \\\n",
       "0           157  We've been seeing a worrying increase in pro-s...   \n",
       "\n",
       "           p_timestamp     c_id  \\\n",
       "0  2019-09-03 18:49:51  eyx1qcc   \n",
       "\n",
       "                                             comment          c_timestamp  \\\n",
       "0  I'm sorry did you say suicide fetishists? As i...  2019-09-03 23:34:05   \n",
       "\n",
       "  Post_Reply            Time_to_Comment  Suicide  \n",
       "0          Y  0 days 04:44:14.000000000        1  "
      ]
     },
     "execution_count": 3,
     "metadata": {},
     "output_type": "execute_result"
    }
   ],
   "source": [
    "# Create column 'Suicide', intialize with 1\n",
    "df_suicide['Suicide'] = 1\n",
    "df_depression['Depression'] = np.nan\n",
    "\n",
    "print(len(df_suicide)) # Check\n",
    "df_suicide.head(1) # Check"
   ]
  },
  {
   "cell_type": "code",
   "execution_count": 5,
   "metadata": {},
   "outputs": [
    {
     "name": "stdout",
     "output_type": "stream",
     "text": [
      "4035\n"
     ]
    },
    {
     "data": {
      "text/html": [
       "<div>\n",
       "<style scoped>\n",
       "    .dataframe tbody tr th:only-of-type {\n",
       "        vertical-align: middle;\n",
       "    }\n",
       "\n",
       "    .dataframe tbody tr th {\n",
       "        vertical-align: top;\n",
       "    }\n",
       "\n",
       "    .dataframe thead th {\n",
       "        text-align: right;\n",
       "    }\n",
       "</style>\n",
       "<table border=\"1\" class=\"dataframe\">\n",
       "  <thead>\n",
       "    <tr style=\"text-align: right;\">\n",
       "      <th></th>\n",
       "      <th>title</th>\n",
       "      <th>score</th>\n",
       "      <th>p_id</th>\n",
       "      <th>subreddit</th>\n",
       "      <th>url</th>\n",
       "      <th>num_comments</th>\n",
       "      <th>body</th>\n",
       "      <th>p_timestamp</th>\n",
       "      <th>c_id</th>\n",
       "      <th>comment</th>\n",
       "      <th>c_timestamp</th>\n",
       "      <th>Post_Reply</th>\n",
       "      <th>Time_to_Comment</th>\n",
       "      <th>Depression</th>\n",
       "      <th>Suicide</th>\n",
       "    </tr>\n",
       "  </thead>\n",
       "  <tbody>\n",
       "    <tr>\n",
       "      <th>0</th>\n",
       "      <td>Regular Check-In Post</td>\n",
       "      <td>970</td>\n",
       "      <td>cml6ni</td>\n",
       "      <td>depression</td>\n",
       "      <td>https://www.reddit.com/r/depression/comments/c...</td>\n",
       "      <td>5523</td>\n",
       "      <td>Welcome to /r/depression's check-in post - a p...</td>\n",
       "      <td>2019-08-06 06:12:33</td>\n",
       "      <td>ew4joli</td>\n",
       "      <td>I gave in to my depression and stayed home ins...</td>\n",
       "      <td>2019-08-06 20:21:04</td>\n",
       "      <td>Y</td>\n",
       "      <td>0 days 14:08:31.000000000</td>\n",
       "      <td>0</td>\n",
       "      <td>NaN</td>\n",
       "    </tr>\n",
       "  </tbody>\n",
       "</table>\n",
       "</div>"
      ],
      "text/plain": [
       "                   title  score    p_id   subreddit  \\\n",
       "0  Regular Check-In Post    970  cml6ni  depression   \n",
       "\n",
       "                                                 url  num_comments  \\\n",
       "0  https://www.reddit.com/r/depression/comments/c...          5523   \n",
       "\n",
       "                                                body          p_timestamp  \\\n",
       "0  Welcome to /r/depression's check-in post - a p...  2019-08-06 06:12:33   \n",
       "\n",
       "      c_id                                            comment  \\\n",
       "0  ew4joli  I gave in to my depression and stayed home ins...   \n",
       "\n",
       "           c_timestamp Post_Reply            Time_to_Comment  Depression  \\\n",
       "0  2019-08-06 20:21:04          Y  0 days 14:08:31.000000000           0   \n",
       "\n",
       "   Suicide  \n",
       "0      NaN  "
      ]
     },
     "execution_count": 5,
     "metadata": {},
     "output_type": "execute_result"
    }
   ],
   "source": [
    "# Create column 'Depression', intialize with 0\n",
    "df_depression['Suicide'] = np.nan\n",
    "df_depression['Depression'] = 0\n",
    "\n",
    "print(len(df_depression)) # Check\n",
    "df_depression.head(1) # Check"
   ]
  },
  {
   "cell_type": "code",
   "execution_count": 8,
   "metadata": {},
   "outputs": [
    {
     "data": {
      "text/plain": [
       "[\"I gave in to my depression and stayed home instead of going to an exam that made up 35% of my grade. Then I thought to myself what the fuck did I just do and I dragged my ass to office hours to beg for another chance and told my professor honestly why I didn't attend. \\n\\nHe was very sympathetic and told me he could tell I was having a hard time and said I could take it tomorrow. I don't feel like I deserve this chance, but I won't waste it.\"]"
      ]
     },
     "execution_count": 8,
     "metadata": {},
     "output_type": "execute_result"
    }
   ],
   "source": [
    "list(df_depression['comment'][:1])"
   ]
  },
  {
   "cell_type": "code",
   "execution_count": 9,
   "metadata": {},
   "outputs": [
    {
     "data": {
      "text/plain": [
       "['I didn’t necessarily see this addressed, perhaps I overlooked it. I personally think the whole “it gets better” campaign was BS. It’s not 100% true, yay for those whose lives have improved and they can honestly look back and say wow, I’m really glad I didn’t die. Is that little bandaid still discouraged? I hope so. Because as someone who has wanted to die (not necessarily kill myself) since I was probably at least 25, and I’m now 48 and at the lowest point I’ve been, it does not get better. And it can get worse. \\n\\nI would never encourage anyone to kill themselves. But if their mind is made up, I want them to know it’s ok, I want them to be at peace because it’s obviously not with them now.']"
      ]
     },
     "execution_count": 9,
     "metadata": {},
     "output_type": "execute_result"
    }
   ],
   "source": [
    "list(df_suicide['comment'][1:2])"
   ]
  },
  {
   "cell_type": "code",
   "execution_count": 5,
   "metadata": {},
   "outputs": [
    {
     "name": "stdout",
     "output_type": "stream",
     "text": [
      "df_merged length: 8482\n",
      "Bayesian accuracy\n",
      "0.5242867248290497\n",
      "0.4757132751709503\n"
     ]
    }
   ],
   "source": [
    "# Merge the two datasets\n",
    "frames = [df_depression, df_suicide]\n",
    "df_merged = pd.concat(frames, sort=True)\n",
    "\n",
    "print('df_merged length:', len(df_merged)) # Check\n",
    "df_merged.head(1) # Check\n",
    "\n",
    "print('Bayesian accuracy')\n",
    "print(4447/8482)\n",
    "print(1-4447/8482)"
   ]
  },
  {
   "cell_type": "code",
   "execution_count": 6,
   "metadata": {},
   "outputs": [
    {
     "data": {
      "text/html": [
       "<div>\n",
       "<style scoped>\n",
       "    .dataframe tbody tr th:only-of-type {\n",
       "        vertical-align: middle;\n",
       "    }\n",
       "\n",
       "    .dataframe tbody tr th {\n",
       "        vertical-align: top;\n",
       "    }\n",
       "\n",
       "    .dataframe thead th {\n",
       "        text-align: right;\n",
       "    }\n",
       "</style>\n",
       "<table border=\"1\" class=\"dataframe\">\n",
       "  <thead>\n",
       "    <tr style=\"text-align: right;\">\n",
       "      <th></th>\n",
       "      <th>Depression</th>\n",
       "      <th>Post_Reply</th>\n",
       "      <th>Suicide</th>\n",
       "      <th>Time_to_Comment</th>\n",
       "      <th>body</th>\n",
       "      <th>c_id</th>\n",
       "      <th>c_timestamp</th>\n",
       "      <th>comment</th>\n",
       "      <th>num_comments</th>\n",
       "      <th>p_id</th>\n",
       "      <th>p_timestamp</th>\n",
       "      <th>score</th>\n",
       "      <th>subreddit</th>\n",
       "      <th>title</th>\n",
       "      <th>url</th>\n",
       "      <th>Target</th>\n",
       "    </tr>\n",
       "  </thead>\n",
       "  <tbody>\n",
       "    <tr>\n",
       "      <th>0</th>\n",
       "      <td>0.0</td>\n",
       "      <td>Y</td>\n",
       "      <td>NaN</td>\n",
       "      <td>0 days 14:08:31.000000000</td>\n",
       "      <td>Welcome to /r/depression's check-in post - a p...</td>\n",
       "      <td>ew4joli</td>\n",
       "      <td>2019-08-06 20:21:04</td>\n",
       "      <td>I gave in to my depression and stayed home ins...</td>\n",
       "      <td>5523</td>\n",
       "      <td>cml6ni</td>\n",
       "      <td>2019-08-06 06:12:33</td>\n",
       "      <td>970</td>\n",
       "      <td>depression</td>\n",
       "      <td>Regular Check-In Post</td>\n",
       "      <td>https://www.reddit.com/r/depression/comments/c...</td>\n",
       "      <td>0.0</td>\n",
       "    </tr>\n",
       "    <tr>\n",
       "      <th>1</th>\n",
       "      <td>0.0</td>\n",
       "      <td>Y</td>\n",
       "      <td>NaN</td>\n",
       "      <td>3 days 01:36:58.000000000</td>\n",
       "      <td>Welcome to /r/depression's check-in post - a p...</td>\n",
       "      <td>ewejn04</td>\n",
       "      <td>2019-08-09 07:49:31</td>\n",
       "      <td>Currently experiencing: Extreme sadness (but c...</td>\n",
       "      <td>5523</td>\n",
       "      <td>cml6ni</td>\n",
       "      <td>2019-08-06 06:12:33</td>\n",
       "      <td>970</td>\n",
       "      <td>depression</td>\n",
       "      <td>Regular Check-In Post</td>\n",
       "      <td>https://www.reddit.com/r/depression/comments/c...</td>\n",
       "      <td>0.0</td>\n",
       "    </tr>\n",
       "    <tr>\n",
       "      <th>2</th>\n",
       "      <td>0.0</td>\n",
       "      <td>Y</td>\n",
       "      <td>NaN</td>\n",
       "      <td>1 days 08:22:00.000000000</td>\n",
       "      <td>Welcome to /r/depression's check-in post - a p...</td>\n",
       "      <td>ew6orjt</td>\n",
       "      <td>2019-08-07 14:34:33</td>\n",
       "      <td>i’m just too scared to kill myself. i wish i c...</td>\n",
       "      <td>5523</td>\n",
       "      <td>cml6ni</td>\n",
       "      <td>2019-08-06 06:12:33</td>\n",
       "      <td>970</td>\n",
       "      <td>depression</td>\n",
       "      <td>Regular Check-In Post</td>\n",
       "      <td>https://www.reddit.com/r/depression/comments/c...</td>\n",
       "      <td>0.0</td>\n",
       "    </tr>\n",
       "  </tbody>\n",
       "</table>\n",
       "</div>"
      ],
      "text/plain": [
       "   Depression Post_Reply  Suicide            Time_to_Comment  \\\n",
       "0         0.0          Y      NaN  0 days 14:08:31.000000000   \n",
       "1         0.0          Y      NaN  3 days 01:36:58.000000000   \n",
       "2         0.0          Y      NaN  1 days 08:22:00.000000000   \n",
       "\n",
       "                                                body     c_id  \\\n",
       "0  Welcome to /r/depression's check-in post - a p...  ew4joli   \n",
       "1  Welcome to /r/depression's check-in post - a p...  ewejn04   \n",
       "2  Welcome to /r/depression's check-in post - a p...  ew6orjt   \n",
       "\n",
       "           c_timestamp                                            comment  \\\n",
       "0  2019-08-06 20:21:04  I gave in to my depression and stayed home ins...   \n",
       "1  2019-08-09 07:49:31  Currently experiencing: Extreme sadness (but c...   \n",
       "2  2019-08-07 14:34:33  i’m just too scared to kill myself. i wish i c...   \n",
       "\n",
       "   num_comments    p_id          p_timestamp  score   subreddit  \\\n",
       "0          5523  cml6ni  2019-08-06 06:12:33    970  depression   \n",
       "1          5523  cml6ni  2019-08-06 06:12:33    970  depression   \n",
       "2          5523  cml6ni  2019-08-06 06:12:33    970  depression   \n",
       "\n",
       "                   title                                                url  \\\n",
       "0  Regular Check-In Post  https://www.reddit.com/r/depression/comments/c...   \n",
       "1  Regular Check-In Post  https://www.reddit.com/r/depression/comments/c...   \n",
       "2  Regular Check-In Post  https://www.reddit.com/r/depression/comments/c...   \n",
       "\n",
       "   Target  \n",
       "0     0.0  \n",
       "1     0.0  \n",
       "2     0.0  "
      ]
     },
     "execution_count": 6,
     "metadata": {},
     "output_type": "execute_result"
    }
   ],
   "source": [
    "# Split into train and test set\n",
    "df_merged['Target'] = df_merged['Suicide'].combine_first(df_merged['Depression'])\n",
    "\n",
    "df_merged['Target'].value_counts() # Check\n",
    "df_merged.head(3)"
   ]
  },
  {
   "cell_type": "code",
   "execution_count": 7,
   "metadata": {},
   "outputs": [
    {
     "name": "stderr",
     "output_type": "stream",
     "text": [
      "C:\\Users\\Hannah\\Anaconda3\\lib\\site-packages\\pandas\\core\\indexing.py:205: SettingWithCopyWarning: \n",
      "A value is trying to be set on a copy of a slice from a DataFrame\n",
      "\n",
      "See the caveats in the documentation: http://pandas.pydata.org/pandas-docs/stable/user_guide/indexing.html#returning-a-view-versus-a-copy\n",
      "  self._setitem_with_indexer(indexer, value)\n"
     ]
    },
    {
     "data": {
      "text/html": [
       "<div>\n",
       "<style scoped>\n",
       "    .dataframe tbody tr th:only-of-type {\n",
       "        vertical-align: middle;\n",
       "    }\n",
       "\n",
       "    .dataframe tbody tr th {\n",
       "        vertical-align: top;\n",
       "    }\n",
       "\n",
       "    .dataframe thead th {\n",
       "        text-align: right;\n",
       "    }\n",
       "</style>\n",
       "<table border=\"1\" class=\"dataframe\">\n",
       "  <thead>\n",
       "    <tr style=\"text-align: right;\">\n",
       "      <th></th>\n",
       "      <th>Depression</th>\n",
       "      <th>Post_Reply</th>\n",
       "      <th>Suicide</th>\n",
       "      <th>Time_to_Comment</th>\n",
       "      <th>body</th>\n",
       "      <th>c_id</th>\n",
       "      <th>c_timestamp</th>\n",
       "      <th>comment</th>\n",
       "      <th>num_comments</th>\n",
       "      <th>p_id</th>\n",
       "      <th>p_timestamp</th>\n",
       "      <th>score</th>\n",
       "      <th>subreddit</th>\n",
       "      <th>title</th>\n",
       "      <th>url</th>\n",
       "      <th>Target</th>\n",
       "      <th>comment_sw_p</th>\n",
       "      <th>deleted</th>\n",
       "      <th>comment_length</th>\n",
       "    </tr>\n",
       "  </thead>\n",
       "  <tbody>\n",
       "    <tr>\n",
       "      <th>0</th>\n",
       "      <td>0.0</td>\n",
       "      <td>Y</td>\n",
       "      <td>NaN</td>\n",
       "      <td>0 days 14:08:31.000000000</td>\n",
       "      <td>Welcome to /r/depression's check-in post - a p...</td>\n",
       "      <td>ew4joli</td>\n",
       "      <td>2019-08-06 20:21:04</td>\n",
       "      <td>I gave in to my depression and stayed home ins...</td>\n",
       "      <td>5523</td>\n",
       "      <td>cml6ni</td>\n",
       "      <td>2019-08-06 06:12:33</td>\n",
       "      <td>970</td>\n",
       "      <td>depression</td>\n",
       "      <td>Regular Check-In Post</td>\n",
       "      <td>https://www.reddit.com/r/depression/comments/c...</td>\n",
       "      <td>0.0</td>\n",
       "      <td>i gave in to my depression and stayed home ins...</td>\n",
       "      <td>N</td>\n",
       "      <td>92.0</td>\n",
       "    </tr>\n",
       "  </tbody>\n",
       "</table>\n",
       "</div>"
      ],
      "text/plain": [
       "   Depression Post_Reply  Suicide            Time_to_Comment  \\\n",
       "0         0.0          Y      NaN  0 days 14:08:31.000000000   \n",
       "\n",
       "                                                body     c_id  \\\n",
       "0  Welcome to /r/depression's check-in post - a p...  ew4joli   \n",
       "\n",
       "           c_timestamp                                            comment  \\\n",
       "0  2019-08-06 20:21:04  I gave in to my depression and stayed home ins...   \n",
       "\n",
       "   num_comments    p_id          p_timestamp  score   subreddit  \\\n",
       "0          5523  cml6ni  2019-08-06 06:12:33    970  depression   \n",
       "\n",
       "                   title                                                url  \\\n",
       "0  Regular Check-In Post  https://www.reddit.com/r/depression/comments/c...   \n",
       "\n",
       "   Target                                       comment_sw_p deleted  \\\n",
       "0     0.0  i gave in to my depression and stayed home ins...       N   \n",
       "\n",
       "   comment_length  \n",
       "0            92.0  "
      ]
     },
     "execution_count": 7,
     "metadata": {},
     "output_type": "execute_result"
    }
   ],
   "source": [
    "# Clean comments\n",
    "\n",
    "sw = stopwords.words('english')\n",
    "\n",
    "# Replace '\\n' and '\\\\' with ''\n",
    "df_merged['comment'] = df_merged['comment'].astype(str).str.replace('\\n', '').str.replace('\\\\', '')\n",
    "\n",
    "# Remove stopwords\n",
    "# df_merged['comment_sw'] = df_merged['comment'].apply(lambda x: ' '.join([word for word in x.split() if word not in (sw)])).astype(str)\n",
    "\n",
    "# Remove special characters; make all characters lowercase\n",
    "df_merged['comment_sw_p'] = df_merged['comment'].str.replace('[^\\w\\s]', '').str.lower()\n",
    "\n",
    "# Create boolean for deleted comments\n",
    "df_merged['deleted'] = np.where(df_merged['comment']=='[deleted]', 'Y', 'N')\n",
    "\n",
    "# Create column with comment length\n",
    "df_merged['comment_length'] = 0\n",
    "\n",
    "for i in range(len(df_merged)):\n",
    "    df_merged['comment_length'].iloc[i] = len(df_merged['comment'].iloc[i].split(' '))\n",
    "    \n",
    "df_merged['comment_length'] = np.where(df_merged['deleted']=='Y', np.NaN, df_merged['comment_length'])\n",
    "df_merged.head(1)"
   ]
  },
  {
   "cell_type": "markdown",
   "metadata": {},
   "source": [
    "Train and run Logistic Regression model using unigrams and bigrams"
   ]
  },
  {
   "cell_type": "code",
   "execution_count": 8,
   "metadata": {},
   "outputs": [
    {
     "name": "stdout",
     "output_type": "stream",
     "text": [
      "(8482, 4803)\n",
      "(8482, 23876)\n",
      "(8482, 35062)\n"
     ]
    }
   ],
   "source": [
    "# Ref: https://towardsdatascience.com/multi-class-text-classification-with-scikit-learn-12f1e60e0a9f\n",
    "# Sublinear tf scaling: https://nlp.stanford.edu/IR-book/html/htmledition/sublinear-tf-scaling-1.html\n",
    "# min_df: When building the vocabulary ignore terms that have a document frequency strictly lower than the given threshold. \n",
    "# norm: cosine similarity between two vectors is their dot product when l2 norm has been applied\n",
    "# ngram_range: an ngram_range of (1, 1) means only unigrams, (1, 2) means unigrams and bigrams, and (2, 2) means only bigrams\n",
    "tfidf1 = TfidfVectorizer(sublinear_tf = True, min_df = 3, norm = 'l2', ngram_range = (1,1))\n",
    "tfidf12 = TfidfVectorizer(sublinear_tf = True, min_df = 3, norm = 'l2', ngram_range = (1,2))\n",
    "tfidf123 = TfidfVectorizer(sublinear_tf = True, min_df = 3, norm = 'l2', ngram_range = (1,3))\n",
    "\n",
    "features1 = tfidf1.fit_transform(df_merged.comment_sw_p).toarray()\n",
    "features12 = tfidf12.fit_transform(df_merged.comment_sw_p).toarray()\n",
    "features123 = tfidf123.fit_transform(df_merged.comment_sw_p).toarray()\n",
    "\n",
    "print(features1.shape)\n",
    "print(features12.shape)\n",
    "print(features123.shape)# Each comment is represented by 6948 features, which are tf-idf scores for various unigrams and bigrams"
   ]
  },
  {
   "cell_type": "code",
   "execution_count": 9,
   "metadata": {},
   "outputs": [],
   "source": [
    "def train_test_split_predict_verify(features, targets, random_state = 42):\n",
    "    X_train, X_test, y_train, y_test = train_test_split(features, targets, random_state = random_state)\n",
    "    \n",
    "    # Predict subreddit class based on tf-idf scores using Logistic Regression model\n",
    "    models = [LogisticRegression(penalty = 'l2', random_state = random_state, solver = 'liblinear')]\n",
    "    CV = 5\n",
    "    entries = []\n",
    "    class_names = ['Depression', 'Suicide']\n",
    "\n",
    "    for model in models:\n",
    "\n",
    "        model.fit(X_train, y_train)\n",
    "        y_pred = model.predict(X_test)\n",
    "\n",
    "        conf_matrix = confusion_matrix(y_test, y_pred)\n",
    "\n",
    "        print (conf_matrix)\n",
    "\n",
    "        np.set_printoptions(precision = 2)\n",
    "\n",
    "        # Plot non-normalized and normalized confusion matrix\n",
    "        titles_options = [(\"Confusion matrix, without normalization\", None), (\"Normalized confusion matrix\", 'true')]\n",
    "        for title, normalize in titles_options:\n",
    "            disp = plot_confusion_matrix(model, X_test, y_test, display_labels = class_names, cmap = plt.cm.Reds, normalize = normalize)\n",
    "            disp.ax_.set_title(title)\n",
    "            print(title)\n",
    "            print(disp.confusion_matrix)\n",
    "        plt.show()\n",
    "\n",
    "        model_name = model.__class__.__name__\n",
    "        print (model_name)\n",
    "\n",
    "        accuracies = cross_val_score(model, features, df_merged.Target, scoring = 'accuracy', cv = CV) # cross_val_score(estimator, X, y)\n",
    "        for fold_index, accuracy in enumerate(accuracies):\n",
    "            entries.append((model_name, fold_index, accuracy))\n",
    "\n",
    "    cv_df = pd.DataFrame(entries, columns = ['model_name', 'fold_index','accuracy'])\n",
    "    cv_df"
   ]
  },
  {
   "cell_type": "code",
   "execution_count": 10,
   "metadata": {},
   "outputs": [
    {
     "name": "stdout",
     "output_type": "stream",
     "text": [
      "Unigrams\n",
      "[[609 404]\n",
      " [349 759]]\n",
      "Confusion matrix, without normalization\n",
      "[[609 404]\n",
      " [349 759]]\n",
      "Normalized confusion matrix\n",
      "[[0.6  0.4 ]\n",
      " [0.31 0.69]]\n"
     ]
    },
    {
     "data": {
      "image/png": "[encoded data removed]",
      "text/plain": [
       "<Figure size 432x288 with 2 Axes>"
      ]
     },
     "metadata": {
      "needs_background": "light"
     },
     "output_type": "display_data"
    },
    {
     "data": {
      "image/png": "[encoded data removed]",
      "text/plain": [
       "<Figure size 432x288 with 2 Axes>"
      ]
     },
     "metadata": {
      "needs_background": "light"
     },
     "output_type": "display_data"
    },
    {
     "name": "stdout",
     "output_type": "stream",
     "text": [
      "LogisticRegression\n"
     ]
    }
   ],
   "source": [
    "# Prediction using unigrams performed about as well as n-grams > 1.\n",
    "# This implies tf-idf scores of single words can reasonably predict whether a comment was posted in the suicide or depression thread.\n",
    "print('Unigrams')\n",
    "train_test_split_predict_verify(features1, df_merged['Target'])"
   ]
  },
  {
   "cell_type": "code",
   "execution_count": 11,
   "metadata": {},
   "outputs": [
    {
     "name": "stdout",
     "output_type": "stream",
     "text": [
      "Unigrams and bigrams\n",
      "[[612 401]\n",
      " [324 784]]\n",
      "Confusion matrix, without normalization\n",
      "[[612 401]\n",
      " [324 784]]\n",
      "Normalized confusion matrix\n",
      "[[0.6  0.4 ]\n",
      " [0.29 0.71]]\n"
     ]
    },
    {
     "data": {
      "image/png": "[encoded data removed]",
      "text/plain": [
       "<Figure size 432x288 with 2 Axes>"
      ]
     },
     "metadata": {
      "needs_background": "light"
     },
     "output_type": "display_data"
    },
    {
     "data": {
      "image/png": "[encoded data removed]",
      "text/plain": [
       "<Figure size 432x288 with 2 Axes>"
      ]
     },
     "metadata": {
      "needs_background": "light"
     },
     "output_type": "display_data"
    },
    {
     "name": "stdout",
     "output_type": "stream",
     "text": [
      "LogisticRegression\n"
     ]
    }
   ],
   "source": [
    "print('Unigrams and bigrams')\n",
    "train_test_split_predict_verify(features12, df_merged['Target'])"
   ]
  },
  {
   "cell_type": "code",
   "execution_count": 12,
   "metadata": {},
   "outputs": [
    {
     "name": "stdout",
     "output_type": "stream",
     "text": [
      "Unigrams, bigrams, and trigrams\n",
      "[[610 403]\n",
      " [324 784]]\n",
      "Confusion matrix, without normalization\n",
      "[[610 403]\n",
      " [324 784]]\n",
      "Normalized confusion matrix\n",
      "[[0.6  0.4 ]\n",
      " [0.29 0.71]]\n"
     ]
    },
    {
     "data": {
      "image/png": "[encoded data removed]",
      "text/plain": [
       "<Figure size 432x288 with 2 Axes>"
      ]
     },
     "metadata": {
      "needs_background": "light"
     },
     "output_type": "display_data"
    },
    {
     "data": {
      "image/png": "[encoded data removed]",
      "text/plain": [
       "<Figure size 432x288 with 2 Axes>"
      ]
     },
     "metadata": {
      "needs_background": "light"
     },
     "output_type": "display_data"
    },
    {
     "name": "stdout",
     "output_type": "stream",
     "text": [
      "LogisticRegression\n"
     ]
    }
   ],
   "source": [
    "print('Unigrams, bigrams, and trigrams')\n",
    "train_test_split_predict_verify(features123, df_merged['Target'])"
   ]
  },
  {
   "cell_type": "code",
   "execution_count": 13,
   "metadata": {},
   "outputs": [
    {
     "name": "stdout",
     "output_type": "stream",
     "text": [
      "Depression most common words: \n"
     ]
    }
   ],
   "source": [
    "#Depression\n",
    "d = list(itertools.chain(*[comment.split() for comment, tgt in zip(df_merged['comment_sw_p'], df_merged['Target']) if tgt == 0]))\n",
    "print(\"Depression most common words: \")\n",
    "depression_most_common = Counter(d)\n",
    "\n",
    "# Normalize term frequencies\n",
    "number_tokens = sum(depression_most_common.values())\n",
    "\n",
    "for word, frequency in depression_most_common.most_common(20):\n",
    "    word_norm = frequency/number_tokens"
   ]
  },
  {
   "cell_type": "code",
   "execution_count": 14,
   "metadata": {},
   "outputs": [
    {
     "name": "stdout",
     "output_type": "stream",
     "text": [
      "Top 5 unigrams in merged set\n"
     ]
    },
    {
     "data": {
      "text/plain": [
       "array(['activities', 'complicated', 'unfair', 'sooner', 'stranger'],\n",
       "      dtype='<U16')"
      ]
     },
     "execution_count": 14,
     "metadata": {},
     "output_type": "execute_result"
    }
   ],
   "source": [
    "# Top 5 words in merged dataset by tf-idf score\n",
    "\n",
    "feature_array = np.array(tfidf1.get_feature_names())\n",
    "response = tfidf1.transform(df_merged.comment_sw_p)\n",
    "tfidf_sorting = np.argsort(response.toarray()).flatten()[::-1]\n",
    "\n",
    "n = 5\n",
    "top_n = feature_array[tfidf_sorting][:n]\n",
    "# len(feature_array)\n",
    "# response\n",
    "print('Top 5 unigrams in merged set')\n",
    "top_n"
   ]
  },
  {
   "cell_type": "code",
   "execution_count": 15,
   "metadata": {},
   "outputs": [
    {
     "name": "stdout",
     "output_type": "stream",
     "text": [
      "Top 5 unigrams in depression set\n"
     ]
    },
    {
     "data": {
      "text/plain": [
       "array(['escape', 'whatever', 'binge', 'helps', 'reminding'], dtype='<U16')"
      ]
     },
     "execution_count": 15,
     "metadata": {},
     "output_type": "execute_result"
    }
   ],
   "source": [
    "# Top 5 words in depression dataset by tf-idf score\n",
    "\n",
    "# Replace '\\n' and '\\\\' with ''\n",
    "df_depression['comment'] = df_depression['comment'].astype(str).str.replace('\\n', '').str.replace('\\\\', '')\n",
    "\n",
    "# Remove special characters; make all characters lowercase\n",
    "df_depression['comment_sw_p'] = df_depression['comment'].str.replace('[^\\w\\s]', '').str.lower()\n",
    "\n",
    "feature_array = np.array(tfidf1.get_feature_names())\n",
    "response = tfidf1.transform(df_depression.comment_sw_p)\n",
    "tfidf_sorting = np.argsort(response.toarray()).flatten()[::-1]\n",
    "\n",
    "n = 5\n",
    "top_n = feature_array[tfidf_sorting][:n]\n",
    "# len(feature_array)\n",
    "# response\n",
    "print('Top 5 unigrams in depression set')\n",
    "top_n"
   ]
  },
  {
   "cell_type": "code",
   "execution_count": 16,
   "metadata": {},
   "outputs": [
    {
     "name": "stdout",
     "output_type": "stream",
     "text": [
      "Top 5 unigrams in suicide set\n"
     ]
    },
    {
     "data": {
      "text/plain": [
       "array(['activities', 'complicated', 'unfair', 'sooner', 'stranger'],\n",
       "      dtype='<U16')"
      ]
     },
     "execution_count": 16,
     "metadata": {},
     "output_type": "execute_result"
    }
   ],
   "source": [
    "# Top 5 words in suicide dataset by tf-idf score\n",
    "\n",
    "# Replace '\\n' and '\\\\' with ''\n",
    "df_suicide['comment'] = df_suicide['comment'].astype(str).str.replace('\\n', '').str.replace('\\\\', '')\n",
    "\n",
    "# Remove special characters; make all characters lowercase\n",
    "df_suicide['comment_sw_p'] = df_suicide['comment'].str.replace('[^\\w\\s]', '').str.lower()\n",
    "\n",
    "feature_array = np.array(tfidf1.get_feature_names())\n",
    "response = tfidf1.transform(df_suicide.comment_sw_p)\n",
    "tfidf_sorting = np.argsort(response.toarray()).flatten()[::-1]\n",
    "\n",
    "n = 5\n",
    "top_n = feature_array[tfidf_sorting][:n]\n",
    "# len(feature_array)\n",
    "# response\n",
    "print ('Top 5 unigrams in suicide set')\n",
    "top_n"
   ]
  },
  {
   "cell_type": "code",
   "execution_count": 17,
   "metadata": {},
   "outputs": [
    {
     "name": "stdout",
     "output_type": "stream",
     "text": [
      "Suicide most common words: \n"
     ]
    },
    {
     "data": {
      "text/plain": [
       "[('i', 6392),\n",
       " ('to', 6133),\n",
       " ('you', 6078),\n",
       " ('and', 4469),\n",
       " ('the', 3943),\n",
       " ('a', 3582),\n",
       " ('it', 2898),\n",
       " ('that', 2702),\n",
       " ('of', 2412),\n",
       " ('is', 2004),\n",
       " ('in', 1859),\n",
       " ('for', 1810),\n",
       " ('but', 1708),\n",
       " ('my', 1592),\n",
       " ('your', 1582),\n",
       " ('have', 1509),\n",
       " ('be', 1442),\n",
       " ('im', 1427),\n",
       " ('just', 1378),\n",
       " ('me', 1308)]"
      ]
     },
     "execution_count": 17,
     "metadata": {},
     "output_type": "execute_result"
    }
   ],
   "source": [
    "#Suicide\n",
    "s = list(itertools.chain(*[comment.split() for comment, tgt in zip(df_merged['comment_sw_p'], df_merged['Target']) if tgt == 1])) \n",
    "print(\"Suicide most common words: \")\n",
    "suicide_most_common = Counter(s)\n",
    "suicide_most_common.most_common(20)"
   ]
  },
  {
   "cell_type": "markdown",
   "metadata": {},
   "source": [
    "Word Embeddings"
   ]
  }
 ],
 "metadata": {
  "kernelspec": {
   "display_name": "Python 3",
   "language": "python",
   "name": "python3"
  },
  "language_info": {
   "codemirror_mode": {
    "name": "ipython",
    "version": 3
   },
   "file_extension": ".py",
   "mimetype": "text/x-python",
   "name": "python",
   "nbconvert_exporter": "python",
   "pygments_lexer": "ipython3",
   "version": "3.7.5"
  }
 },
 "nbformat": 4,
 "nbformat_minor": 4
}
